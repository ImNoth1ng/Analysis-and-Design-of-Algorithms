{
 "cells": [
  {
   "cell_type": "code",
   "execution_count": 1,
   "id": "f621427d",
   "metadata": {},
   "outputs": [],
   "source": [
    "import numpy as np\n",
    "escalon = lambda x: 0 if x < 0 else 1"
   ]
  },
  {
   "cell_type": "code",
   "execution_count": 2,
   "id": "6a6e94a8",
   "metadata": {},
   "outputs": [],
   "source": [
    "p=np.array([[1,1,1,1,1,1,0],\n",
    "            [0,1,1,0,0,0,0],\n",
    "            [1,1,0,1,1,0,1],\n",
    "            [1,1,1,1,0,0,1],\n",
    "            [0,1,1,0,0,1,1],\n",
    "            [1,0,1,1,0,1,1],\n",
    "            [1,0,1,1,1,1,1],\n",
    "            [1,1,1,0,0,0,0],\n",
    "            [1,1,1,1,1,1,1],\n",
    "            [1,1,1,0,0,1,1]])\n",
    "#P se refiere a la matriz de patrones para formar un numero del 0 al 9 con un led de 7 segmentos\n",
    "p=p.T\n",
    "#p es la matriz transpuesta de P\n",
    "#Una transpuesta de una matriz es una matriz que se obtiene a partir de la dada, cambiando sus filas por columnas o viceversa.\n"
   ]
  },
  {
   "cell_type": "code",
   "execution_count": 3,
   "id": "c99d610f",
   "metadata": {},
   "outputs": [
    {
     "name": "stdout",
     "output_type": "stream",
     "text": [
      "Error: [0. 0. 0. 0. 0. 0. 0. 0. 0. 0.]\n",
      "Pesos: [[-0.47061196  0.00512376 -1.81264697 -1.23409688  3.51285322  1.92265094\n",
      "   0.78278043]]\n",
      "Polarizacion: [0.35161274]\n"
     ]
    }
   ],
   "source": [
    "tpar=[1,0,1,0,1,0,1,0,1,0]\n",
    "#tpar es la matriz de los numeros pares del 0 al 9, osea los resultados que se esperan\n",
    "t=tpar\n",
    "\n",
    "w=2*np.random.rand(1,7)-1 #se coloca un 1,7 para que se genere una matriz de 1 fila y 7 columnas\n",
    "b=2*np.random.rand(1)-1#\n",
    "e=np.zeros(10)\n",
    "for epocas in range(500):\n",
    "    for q in range(len(p)):\n",
    "        e[q]=t[q]-escalon(np.dot(w,p[:,q])+b)\n",
    "        w=w+(e[q]*(p[:,q]).T)\n",
    "        b=b+e[q]\n",
    "print(\"Error:\",e)\n",
    "print(\"Pesos:\",w)\n",
    "print(\"Polarizacion:\",b)"
   ]
  }
 ],
 "metadata": {
  "kernelspec": {
   "display_name": "Python 3 (ipykernel)",
   "language": "python",
   "name": "python3"
  },
  "language_info": {
   "codemirror_mode": {
    "name": "ipython",
    "version": 3
   },
   "file_extension": ".py",
   "mimetype": "text/x-python",
   "name": "python",
   "nbconvert_exporter": "python",
   "pygments_lexer": "ipython3",
   "version": "3.11.4"
  }
 },
 "nbformat": 4,
 "nbformat_minor": 5
}
