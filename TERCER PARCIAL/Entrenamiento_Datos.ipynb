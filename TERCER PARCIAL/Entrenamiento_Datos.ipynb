{
 "cells": [
  {
   "cell_type": "code",
   "execution_count": 19,
   "metadata": {},
   "outputs": [],
   "source": [
    "import numpy as np"
   ]
  },
  {
   "cell_type": "code",
   "execution_count": 20,
   "metadata": {},
   "outputs": [],
   "source": [
    "def escalon(k,pesos,b):\n",
    "    n = -b\n",
    "    for i in range(len(k)):\n",
    "        n=n+(k[i]*pesos[i])\n",
    "    if (n>=0):\n",
    "        return 1\n",
    "    else:\n",
    "        return 0"
   ]
  },
  {
   "cell_type": "code",
   "execution_count": 28,
   "metadata": {},
   "outputs": [],
   "source": [
    "def entrenar_perceptron(datos_entrada, pesos, b, lamda):\n",
    "    epocas = 0\n",
    "    error = True\n",
    "    while error:\n",
    "        epocas += 1\n",
    "        print(\"Época:\", epocas)\n",
    "        error = False\n",
    "        for (entrada, y) in datos_entrada:\n",
    "            k = np.array(entrada)  # Convierte la lista de características a un array\n",
    "            n = escalon(np.dot(k, pesos) + b)\n",
    "            if n != y:\n",
    "                print(\"¡Hay ajuste!\")\n",
    "                error = True\n",
    "                e = y - n\n",
    "                delta_b = -lamda * e\n",
    "                print(\"b:\", b, \"e:\", e, \"delta:\", delta_b)\n",
    "                for i in range(len(k)):\n",
    "                    delta_w = lamda * e * k[i]\n",
    "                    pesos[i] = pesos[i] + delta_w\n",
    "                    print(\"Peso\", i, \":\", pesos[i])\n",
    "            else:\n",
    "                print(\"No hay ajuste.\")\n",
    "    return pesos, b, epocas\n",
    "\n",
    "\n",
    "def clasificar(entrada, pesos, b):\n",
    "    k = np.array(entrada)\n",
    "    return escalon(np.dot(k, pesos) + b)"
   ]
  },
  {
   "cell_type": "code",
   "execution_count": 25,
   "metadata": {},
   "outputs": [],
   "source": [
    "# Lista para almacenar los datos en forma de tuplas (R, G, B)\n",
    "def leer_datos(archivo):\n",
    "    lista_datos = []\n",
    "# Lee el archivo y procesa los datos\n",
    "    with open(archivo, 'r') as archivo:\n",
    "        for linea in archivo:\n",
    "            partes = linea.strip().split(',')\n",
    "            # Convierte las partes numéricas a enteros\n",
    "            numeros = [int(part) for part in partes[1::2]]\n",
    "            # Crea una tupla con los valores R, G, B y agrega a la lista\n",
    "            tupla = tuple(numeros)\n",
    "            lista_datos.append(tupla)\n",
    "    lista_datos = [tupla for tupla in lista_datos if tupla]\n",
    "    return lista_datos\n"
   ]
  },
  {
   "cell_type": "code",
   "execution_count": 32,
   "metadata": {},
   "outputs": [
    {
     "ename": "ValueError",
     "evalue": "too many values to unpack (expected 2)",
     "output_type": "error",
     "traceback": [
      "\u001b[1;31m---------------------------------------------------------------------------\u001b[0m",
      "\u001b[1;31mValueError\u001b[0m                                Traceback (most recent call last)",
      "\u001b[1;32mc:\\Users\\xGud\\Documents\\Escuela\\dyA\\Analysis-and-Design-of-Algorithms\\TERCER PARCIAL\\Entrenamiento_Datos.ipynb Celda 5\u001b[0m line \u001b[0;36m1\n\u001b[0;32m     <a href='vscode-notebook-cell:/c%3A/Users/xGud/Documents/Escuela/dyA/Analysis-and-Design-of-Algorithms/TERCER%20PARCIAL/Entrenamiento_Datos.ipynb#W2sZmlsZQ%3D%3D?line=10'>11</a>\u001b[0m manzana \u001b[39m=\u001b[39m [(np\u001b[39m.\u001b[39marray(tupla), label) \u001b[39mfor\u001b[39;00m tupla, label \u001b[39min\u001b[39;00m manzana]\n\u001b[0;32m     <a href='vscode-notebook-cell:/c%3A/Users/xGud/Documents/Escuela/dyA/Analysis-and-Design-of-Algorithms/TERCER%20PARCIAL/Entrenamiento_Datos.ipynb#W2sZmlsZQ%3D%3D?line=11'>12</a>\u001b[0m limon \u001b[39m=\u001b[39m [(np\u001b[39m.\u001b[39marray(tupla), label) \u001b[39mfor\u001b[39;00m tupla, label \u001b[39min\u001b[39;00m limon]\n\u001b[1;32m---> <a href='vscode-notebook-cell:/c%3A/Users/xGud/Documents/Escuela/dyA/Analysis-and-Design-of-Algorithms/TERCER%20PARCIAL/Entrenamiento_Datos.ipynb#W2sZmlsZQ%3D%3D?line=12'>13</a>\u001b[0m mandarina \u001b[39m=\u001b[39m [(np\u001b[39m.\u001b[39;49marray(tupla), label) \u001b[39mfor\u001b[39;49;00m tupla, label \u001b[39min\u001b[39;49;00m mandarina]\n\u001b[0;32m     <a href='vscode-notebook-cell:/c%3A/Users/xGud/Documents/Escuela/dyA/Analysis-and-Design-of-Algorithms/TERCER%20PARCIAL/Entrenamiento_Datos.ipynb#W2sZmlsZQ%3D%3D?line=13'>14</a>\u001b[0m mandarina \u001b[39m=\u001b[39m [(tupla, \u001b[39m3\u001b[39m) \u001b[39mfor\u001b[39;00m tupla \u001b[39min\u001b[39;00m mandarina]\n\u001b[0;32m     <a href='vscode-notebook-cell:/c%3A/Users/xGud/Documents/Escuela/dyA/Analysis-and-Design-of-Algorithms/TERCER%20PARCIAL/Entrenamiento_Datos.ipynb#W2sZmlsZQ%3D%3D?line=15'>16</a>\u001b[0m \u001b[39m# Combina los conjuntos de datos\u001b[39;00m\n",
      "\u001b[1;32mc:\\Users\\xGud\\Documents\\Escuela\\dyA\\Analysis-and-Design-of-Algorithms\\TERCER PARCIAL\\Entrenamiento_Datos.ipynb Celda 5\u001b[0m line \u001b[0;36m1\n\u001b[0;32m     <a href='vscode-notebook-cell:/c%3A/Users/xGud/Documents/Escuela/dyA/Analysis-and-Design-of-Algorithms/TERCER%20PARCIAL/Entrenamiento_Datos.ipynb#W2sZmlsZQ%3D%3D?line=10'>11</a>\u001b[0m manzana \u001b[39m=\u001b[39m [(np\u001b[39m.\u001b[39marray(tupla), label) \u001b[39mfor\u001b[39;00m tupla, label \u001b[39min\u001b[39;00m manzana]\n\u001b[0;32m     <a href='vscode-notebook-cell:/c%3A/Users/xGud/Documents/Escuela/dyA/Analysis-and-Design-of-Algorithms/TERCER%20PARCIAL/Entrenamiento_Datos.ipynb#W2sZmlsZQ%3D%3D?line=11'>12</a>\u001b[0m limon \u001b[39m=\u001b[39m [(np\u001b[39m.\u001b[39marray(tupla), label) \u001b[39mfor\u001b[39;00m tupla, label \u001b[39min\u001b[39;00m limon]\n\u001b[1;32m---> <a href='vscode-notebook-cell:/c%3A/Users/xGud/Documents/Escuela/dyA/Analysis-and-Design-of-Algorithms/TERCER%20PARCIAL/Entrenamiento_Datos.ipynb#W2sZmlsZQ%3D%3D?line=12'>13</a>\u001b[0m mandarina \u001b[39m=\u001b[39m [(np\u001b[39m.\u001b[39marray(tupla), label) \u001b[39mfor\u001b[39;00m tupla, label \u001b[39min\u001b[39;00m mandarina]\n\u001b[0;32m     <a href='vscode-notebook-cell:/c%3A/Users/xGud/Documents/Escuela/dyA/Analysis-and-Design-of-Algorithms/TERCER%20PARCIAL/Entrenamiento_Datos.ipynb#W2sZmlsZQ%3D%3D?line=13'>14</a>\u001b[0m mandarina \u001b[39m=\u001b[39m [(tupla, \u001b[39m3\u001b[39m) \u001b[39mfor\u001b[39;00m tupla \u001b[39min\u001b[39;00m mandarina]\n\u001b[0;32m     <a href='vscode-notebook-cell:/c%3A/Users/xGud/Documents/Escuela/dyA/Analysis-and-Design-of-Algorithms/TERCER%20PARCIAL/Entrenamiento_Datos.ipynb#W2sZmlsZQ%3D%3D?line=15'>16</a>\u001b[0m \u001b[39m# Combina los conjuntos de datos\u001b[39;00m\n",
      "\u001b[1;31mValueError\u001b[0m: too many values to unpack (expected 2)"
     ]
    }
   ],
   "source": [
    "if __name__ == \"__main__\":\n",
    "    manzana = leer_datos('NuevaManzana1.txt')\n",
    "    limon = leer_datos('Limon1.txt')\n",
    "    mandarina = leer_datos('NuevaMandarina1.txt')\n",
    "\n",
    "    # Agregar etiquetas a los datos\n",
    "    manzana = [(tupla, 1) for tupla in manzana]\n",
    "    limon = [(tupla, 2) for tupla in limon]\n",
    "\n",
    "    # Ensure all elements have the same shape\n",
    "    manzana = [(np.array(tupla), label) for tupla, label in manzana]\n",
    "    limon = [(np.array(tupla), label) for tupla, label in limon]\n",
    "    mandarina = [(np.array(tupla), label) for tupla, label in mandarina]\n",
    "    mandarina = [(tupla, 3) for tupla in mandarina]\n",
    "\n",
    "    # Combina los conjuntos de datos\n",
    "    datos_entrada = manzana + limon + mandarina\n",
    "\n",
    "    # Asigna etiquetas numéricas a las clases\n",
    "    etiquetas = [1] * len(manzana) + [2] * len(limon) + [3] * len(mandarina)\n",
    "\n",
    "    # Combina características y etiquetas en tuplas\n",
    "    datos_entrada = [(data, label) for data, label in datos_entrada]\n",
    "\n",
    "    # Inicialización de pesos y bias para el perceptrón 1\n",
    "    pesos1 = [0.5, 0.5]\n",
    "    b1 = 1\n",
    "    lamda1 = 0.6\n",
    "\n",
    "    # Entrenar perceptrón 1\n",
    "    pesos1, b1, epocas1 = entrenar_perceptron(datos_entrada, pesos1, b1, lamda1)\n",
    "\n",
    "    # Inicialización de pesos y bias para el perceptrón 2\n",
    "    pesos2 = [0.5, 0.5]\n",
    "    b2 = 1\n",
    "    lamda2 = 0.6\n",
    "\n",
    "    # Entrenar perceptrón 2\n",
    "    pesos2, b2, epocas2 = entrenar_perceptron(datos_entrada, pesos2, b2, lamda2)\n",
    "\n",
    "    # Resultados del perceptrón 1\n",
    "    print(\"----------------\")\n",
    "    print(\"Pesos finales perceptrón 1:\", pesos1)\n",
    "    def leer_datos(archivo, label):\n",
    "        lista_datos = []\n",
    "        with open(archivo, 'r') as archivo:\n",
    "            for linea in archivo:\n",
    "                partes = linea.strip().split(',')\n",
    "                numeros = [int(part) for part in partes[1::2]]\n",
    "                tupla = tuple(numeros)\n",
    "                lista_datos.append((tupla, label))\n",
    "        lista_datos = [tupla for tupla in lista_datos if tupla]\n",
    "        return lista_datos\n"
   ]
  }
 ],
 "metadata": {
  "kernelspec": {
   "display_name": "Python 3",
   "language": "python",
   "name": "python3"
  },
  "language_info": {
   "codemirror_mode": {
    "name": "ipython",
    "version": 3
   },
   "file_extension": ".py",
   "mimetype": "text/x-python",
   "name": "python",
   "nbconvert_exporter": "python",
   "pygments_lexer": "ipython3",
   "version": "3.11.4"
  }
 },
 "nbformat": 4,
 "nbformat_minor": 2
}
